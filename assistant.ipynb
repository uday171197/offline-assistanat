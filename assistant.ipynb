{
 "cells": [
  {
   "cell_type": "code",
   "execution_count": null,
   "metadata": {},
   "outputs": [],
   "source": []
  },
  {
   "cell_type": "code",
   "execution_count": 88,
   "metadata": {},
   "outputs": [],
   "source": [
    "import speech_recognition as sr \n",
    "from gtts import gTTS"
   ]
  },
  {
   "cell_type": "code",
   "execution_count": 89,
   "metadata": {},
   "outputs": [],
   "source": [
    "r = sr.Recognizer() "
   ]
  },
  {
   "cell_type": "code",
   "execution_count": 91,
   "metadata": {},
   "outputs": [
    {
     "ename": "AttributeError",
     "evalue": "type object 'Microphone' has no attribute 'source'",
     "output_type": "error",
     "traceback": [
      "\u001b[0;31m---------------------------------------------------------------------------\u001b[0m",
      "\u001b[0;31mAttributeError\u001b[0m                            Traceback (most recent call last)",
      "\u001b[0;32m<ipython-input-91-199f0522b334>\u001b[0m in \u001b[0;36m<module>\u001b[0;34m\u001b[0m\n\u001b[0;32m----> 1\u001b[0;31m \u001b[0msr\u001b[0m\u001b[0;34m.\u001b[0m\u001b[0mMicrophone\u001b[0m\u001b[0;34m.\u001b[0m\u001b[0msource\u001b[0m\u001b[0;34m(\u001b[0m\u001b[0;34m)\u001b[0m\u001b[0;34m\u001b[0m\u001b[0;34m\u001b[0m\u001b[0m\n\u001b[0m",
      "\u001b[0;31mAttributeError\u001b[0m: type object 'Microphone' has no attribute 'source'"
     ]
    }
   ],
   "source": [
    "sr.Microphone.source()"
   ]
  },
  {
   "cell_type": "code",
   "execution_count": 87,
   "metadata": {},
   "outputs": [
    {
     "name": "stdout",
     "output_type": "stream",
     "text": [
      "Say Something\n"
     ]
    },
    {
     "ename": "KeyboardInterrupt",
     "evalue": "",
     "output_type": "error",
     "traceback": [
      "\u001b[0;31m---------------------------------------------------------------------------\u001b[0m",
      "\u001b[0;31mKeyboardInterrupt\u001b[0m                         Traceback (most recent call last)",
      "\u001b[0;32m<ipython-input-87-091e4353a423>\u001b[0m in \u001b[0;36m<module>\u001b[0;34m\u001b[0m\n\u001b[1;32m      5\u001b[0m     \u001b[0mprint\u001b[0m\u001b[0;34m(\u001b[0m\u001b[0;34m\"Say Something\"\u001b[0m\u001b[0;34m)\u001b[0m\u001b[0;34m\u001b[0m\u001b[0;34m\u001b[0m\u001b[0m\n\u001b[1;32m      6\u001b[0m     \u001b[0;31m#listens for the user's input\u001b[0m\u001b[0;34m\u001b[0m\u001b[0;34m\u001b[0m\u001b[0;34m\u001b[0m\u001b[0m\n\u001b[0;32m----> 7\u001b[0;31m     \u001b[0maudio\u001b[0m \u001b[0;34m=\u001b[0m \u001b[0mr\u001b[0m\u001b[0;34m.\u001b[0m\u001b[0mlisten\u001b[0m\u001b[0;34m(\u001b[0m\u001b[0msource\u001b[0m\u001b[0;34m)\u001b[0m\u001b[0;34m\u001b[0m\u001b[0;34m\u001b[0m\u001b[0m\n\u001b[0m\u001b[1;32m      8\u001b[0m     \u001b[0;32mtry\u001b[0m\u001b[0;34m:\u001b[0m\u001b[0;34m\u001b[0m\u001b[0;34m\u001b[0m\u001b[0m\n\u001b[1;32m      9\u001b[0m \u001b[0;31m#                 text = r.recognize_google_cloud(audio)\u001b[0m\u001b[0;34m\u001b[0m\u001b[0;34m\u001b[0m\u001b[0;34m\u001b[0m\u001b[0m\n",
      "\u001b[0;32m~/anaconda3/lib/python3.7/site-packages/speech_recognition/__init__.py\u001b[0m in \u001b[0;36mlisten\u001b[0;34m(self, source, timeout, phrase_time_limit, snowboy_configuration)\u001b[0m\n\u001b[1;32m    618\u001b[0m                         \u001b[0;32mraise\u001b[0m \u001b[0mWaitTimeoutError\u001b[0m\u001b[0;34m(\u001b[0m\u001b[0;34m\"listening timed out while waiting for phrase to start\"\u001b[0m\u001b[0;34m)\u001b[0m\u001b[0;34m\u001b[0m\u001b[0;34m\u001b[0m\u001b[0m\n\u001b[1;32m    619\u001b[0m \u001b[0;34m\u001b[0m\u001b[0m\n\u001b[0;32m--> 620\u001b[0;31m                     \u001b[0mbuffer\u001b[0m \u001b[0;34m=\u001b[0m \u001b[0msource\u001b[0m\u001b[0;34m.\u001b[0m\u001b[0mstream\u001b[0m\u001b[0;34m.\u001b[0m\u001b[0mread\u001b[0m\u001b[0;34m(\u001b[0m\u001b[0msource\u001b[0m\u001b[0;34m.\u001b[0m\u001b[0mCHUNK\u001b[0m\u001b[0;34m)\u001b[0m\u001b[0;34m\u001b[0m\u001b[0;34m\u001b[0m\u001b[0m\n\u001b[0m\u001b[1;32m    621\u001b[0m                     \u001b[0;32mif\u001b[0m \u001b[0mlen\u001b[0m\u001b[0;34m(\u001b[0m\u001b[0mbuffer\u001b[0m\u001b[0;34m)\u001b[0m \u001b[0;34m==\u001b[0m \u001b[0;36m0\u001b[0m\u001b[0;34m:\u001b[0m \u001b[0;32mbreak\u001b[0m  \u001b[0;31m# reached end of the stream\u001b[0m\u001b[0;34m\u001b[0m\u001b[0;34m\u001b[0m\u001b[0m\n\u001b[1;32m    622\u001b[0m                     \u001b[0mframes\u001b[0m\u001b[0;34m.\u001b[0m\u001b[0mappend\u001b[0m\u001b[0;34m(\u001b[0m\u001b[0mbuffer\u001b[0m\u001b[0;34m)\u001b[0m\u001b[0;34m\u001b[0m\u001b[0;34m\u001b[0m\u001b[0m\n",
      "\u001b[0;32m~/anaconda3/lib/python3.7/site-packages/speech_recognition/__init__.py\u001b[0m in \u001b[0;36mread\u001b[0;34m(self, size)\u001b[0m\n\u001b[1;32m    159\u001b[0m \u001b[0;34m\u001b[0m\u001b[0m\n\u001b[1;32m    160\u001b[0m         \u001b[0;32mdef\u001b[0m \u001b[0mread\u001b[0m\u001b[0;34m(\u001b[0m\u001b[0mself\u001b[0m\u001b[0;34m,\u001b[0m \u001b[0msize\u001b[0m\u001b[0;34m)\u001b[0m\u001b[0;34m:\u001b[0m\u001b[0;34m\u001b[0m\u001b[0;34m\u001b[0m\u001b[0m\n\u001b[0;32m--> 161\u001b[0;31m             \u001b[0;32mreturn\u001b[0m \u001b[0mself\u001b[0m\u001b[0;34m.\u001b[0m\u001b[0mpyaudio_stream\u001b[0m\u001b[0;34m.\u001b[0m\u001b[0mread\u001b[0m\u001b[0;34m(\u001b[0m\u001b[0msize\u001b[0m\u001b[0;34m,\u001b[0m \u001b[0mexception_on_overflow\u001b[0m\u001b[0;34m=\u001b[0m\u001b[0;32mFalse\u001b[0m\u001b[0;34m)\u001b[0m\u001b[0;34m\u001b[0m\u001b[0;34m\u001b[0m\u001b[0m\n\u001b[0m\u001b[1;32m    162\u001b[0m \u001b[0;34m\u001b[0m\u001b[0m\n\u001b[1;32m    163\u001b[0m         \u001b[0;32mdef\u001b[0m \u001b[0mclose\u001b[0m\u001b[0;34m(\u001b[0m\u001b[0mself\u001b[0m\u001b[0;34m)\u001b[0m\u001b[0;34m:\u001b[0m\u001b[0;34m\u001b[0m\u001b[0;34m\u001b[0m\u001b[0m\n",
      "\u001b[0;32m~/anaconda3/lib/python3.7/site-packages/pyaudio.py\u001b[0m in \u001b[0;36mread\u001b[0;34m(self, num_frames, exception_on_overflow)\u001b[0m\n\u001b[1;32m    606\u001b[0m                           paCanNotReadFromAnOutputOnlyStream)\n\u001b[1;32m    607\u001b[0m \u001b[0;34m\u001b[0m\u001b[0m\n\u001b[0;32m--> 608\u001b[0;31m         \u001b[0;32mreturn\u001b[0m \u001b[0mpa\u001b[0m\u001b[0;34m.\u001b[0m\u001b[0mread_stream\u001b[0m\u001b[0;34m(\u001b[0m\u001b[0mself\u001b[0m\u001b[0;34m.\u001b[0m\u001b[0m_stream\u001b[0m\u001b[0;34m,\u001b[0m \u001b[0mnum_frames\u001b[0m\u001b[0;34m,\u001b[0m \u001b[0mexception_on_overflow\u001b[0m\u001b[0;34m)\u001b[0m\u001b[0;34m\u001b[0m\u001b[0;34m\u001b[0m\u001b[0m\n\u001b[0m\u001b[1;32m    609\u001b[0m \u001b[0;34m\u001b[0m\u001b[0m\n\u001b[1;32m    610\u001b[0m     \u001b[0;32mdef\u001b[0m \u001b[0mget_read_available\u001b[0m\u001b[0;34m(\u001b[0m\u001b[0mself\u001b[0m\u001b[0;34m)\u001b[0m\u001b[0;34m:\u001b[0m\u001b[0;34m\u001b[0m\u001b[0;34m\u001b[0m\u001b[0m\n",
      "\u001b[0;31mKeyboardInterrupt\u001b[0m: "
     ]
    }
   ],
   "source": [
    "with sr.Microphone() as source: \n",
    "            #wait for a second to let the recognizer adjust the  \n",
    "            #energy threshold based on the surrounding noise level \n",
    "    r.adjust_for_ambient_noise(source) \n",
    "    print(\"Say Something\")\n",
    "    #listens for the user's input \n",
    "    audio = r.listen(source) \n",
    "    try:\n",
    "#                 text = r.recognize_google_cloud(audio)\n",
    "        text = r.recognize_google(audio) \n",
    "        print (\"you said: \" + text )\n",
    "    #error occurs when google could not understand what was said \n",
    "\n",
    "    except sr.UnknownValueError: \n",
    "        print(\"Google Speech Recognition could not understand audio\") \n"
   ]
  },
  {
   "cell_type": "code",
   "execution_count": 62,
   "metadata": {},
   "outputs": [
    {
     "name": "stdout",
     "output_type": "stream",
     "text": [
      "Say Something\n",
      "you said: and if\n"
     ]
    }
   ],
   "source": [
    "with sr.Microphone() as source: \n",
    "            #wait for a second to let the recognizer adjust the  \n",
    "            #energy threshold based on the surrounding noise level \n",
    "    r.adjust_for_ambient_noise(source) \n",
    "    print(\"Say Something\")\n",
    "    #listens for the user's input \n",
    "    audio = r.listen(source) \n",
    "    try:\n",
    "#                 text = r.recognize_google_cloud(audio)\n",
    "        text = r.recognize_sphinx(audio) \n",
    "        print (\"you said: \" + text )\n",
    "    #error occurs when google could not understand what was said \n",
    "\n",
    "    except sr.UnknownValueError: \n",
    "        print(\"Google Speech Recognition could not understand audio\") "
   ]
  },
  {
   "cell_type": "code",
   "execution_count": 52,
   "metadata": {},
   "outputs": [
    {
     "name": "stdout",
     "output_type": "stream",
     "text": [
      "Say Something\n"
     ]
    },
    {
     "ename": "TypeError",
     "evalue": "recognize_ibm() missing 2 required positional arguments: 'username' and 'password'",
     "output_type": "error",
     "traceback": [
      "\u001b[0;31m---------------------------------------------------------------------------\u001b[0m",
      "\u001b[0;31mTypeError\u001b[0m                                 Traceback (most recent call last)",
      "\u001b[0;32m<ipython-input-52-81cae6fc05fb>\u001b[0m in \u001b[0;36m<module>\u001b[0;34m\u001b[0m\n\u001b[1;32m      8\u001b[0m     \u001b[0;32mtry\u001b[0m\u001b[0;34m:\u001b[0m\u001b[0;34m\u001b[0m\u001b[0;34m\u001b[0m\u001b[0m\n\u001b[1;32m      9\u001b[0m \u001b[0;31m#                 text = r.recognize_google_cloud(audio)\u001b[0m\u001b[0;34m\u001b[0m\u001b[0;34m\u001b[0m\u001b[0;34m\u001b[0m\u001b[0m\n\u001b[0;32m---> 10\u001b[0;31m         \u001b[0mtext\u001b[0m \u001b[0;34m=\u001b[0m \u001b[0mr\u001b[0m\u001b[0;34m.\u001b[0m\u001b[0mrecognize_ibm\u001b[0m\u001b[0;34m(\u001b[0m\u001b[0maudio\u001b[0m\u001b[0;34m)\u001b[0m\u001b[0;34m\u001b[0m\u001b[0;34m\u001b[0m\u001b[0m\n\u001b[0m\u001b[1;32m     11\u001b[0m         \u001b[0mprint\u001b[0m \u001b[0;34m(\u001b[0m\u001b[0;34m\"you said: \"\u001b[0m \u001b[0;34m+\u001b[0m \u001b[0mtext\u001b[0m \u001b[0;34m)\u001b[0m\u001b[0;34m\u001b[0m\u001b[0;34m\u001b[0m\u001b[0m\n\u001b[1;32m     12\u001b[0m     \u001b[0;31m#error occurs when google could not understand what was said\u001b[0m\u001b[0;34m\u001b[0m\u001b[0;34m\u001b[0m\u001b[0;34m\u001b[0m\u001b[0m\n",
      "\u001b[0;31mTypeError\u001b[0m: recognize_ibm() missing 2 required positional arguments: 'username' and 'password'"
     ]
    }
   ],
   "source": [
    "with sr.Microphone() as source: \n",
    "            #wait for a second to let the recognizer adjust the  \n",
    "            #energy threshold based on the surrounding noise level \n",
    "    r.adjust_for_ambient_noise(source) \n",
    "    print(\"Say Something\")\n",
    "    #listens for the user's input \n",
    "    audio = r.listen(source) \n",
    "    try:\n",
    "#                 text = r.recognize_google_cloud(audio)\n",
    "        text = r.recognize_ibm(audio) \n",
    "        print (\"you said: \" + text )\n",
    "    #error occurs when google could not understand what was said \n",
    "\n",
    "    except sr.UnknownValueError: \n",
    "        print(\"Google Speech Recognition could not understand audio\") "
   ]
  },
  {
   "cell_type": "code",
   "execution_count": 79,
   "metadata": {},
   "outputs": [],
   "source": [
    "import vlc"
   ]
  },
  {
   "cell_type": "code",
   "execution_count": 80,
   "metadata": {},
   "outputs": [],
   "source": [
    "def play_music(song_name):\n",
    "    player = vlc.MediaPlayer(song_name)\n",
    "    print('playing Music')\n",
    "    player.play()\n",
    "    return player\n",
    "def pause_music(player):\n",
    "    print('pause the music')\n",
    "    player.pause()\n",
    "    \n",
    "def resume_music(player):\n",
    "    print('Resume the music')\n",
    "    player.play()\n",
    "    \n",
    "def stop_music(player):\n",
    "    print('stop the music')\n",
    "    player.stop \n",
    "    \n",
    "\n",
    "    "
   ]
  },
  {
   "cell_type": "code",
   "execution_count": 84,
   "metadata": {},
   "outputs": [
    {
     "name": "stdout",
     "output_type": "stream",
     "text": [
      "playing Music\n"
     ]
    }
   ],
   "source": [
    "song_name =  \"Aaj-Phir-Arijit-Singh,Samira-Koppikar.mp3\"\n",
    "player = play_music(song_name)"
   ]
  },
  {
   "cell_type": "code",
   "execution_count": 86,
   "metadata": {},
   "outputs": [
    {
     "name": "stdout",
     "output_type": "stream",
     "text": [
      "pause the music\n"
     ]
    }
   ],
   "source": [
    "pause_music(player)"
   ]
  },
  {
   "cell_type": "code",
   "execution_count": 85,
   "metadata": {},
   "outputs": [
    {
     "name": "stdout",
     "output_type": "stream",
     "text": [
      "Resume the music\n"
     ]
    }
   ],
   "source": [
    "resume_music(player)"
   ]
  },
  {
   "cell_type": "code",
   "execution_count": null,
   "metadata": {},
   "outputs": [],
   "source": [
    "stop_music(player)"
   ]
  },
  {
   "cell_type": "code",
   "execution_count": 82,
   "metadata": {},
   "outputs": [
    {
     "name": "stdout",
     "output_type": "stream",
     "text": [
      "Say Something\n"
     ]
    },
    {
     "ename": "KeyboardInterrupt",
     "evalue": "",
     "output_type": "error",
     "traceback": [
      "\u001b[0;31m---------------------------------------------------------------------------\u001b[0m",
      "\u001b[0;31mKeyboardInterrupt\u001b[0m                         Traceback (most recent call last)",
      "\u001b[0;32m<ipython-input-82-81bb841e7ccf>\u001b[0m in \u001b[0;36m<module>\u001b[0;34m\u001b[0m\n\u001b[1;32m     54\u001b[0m \u001b[0;34m\u001b[0m\u001b[0m\n\u001b[1;32m     55\u001b[0m \u001b[0;32mif\u001b[0m \u001b[0m__name__\u001b[0m \u001b[0;34m==\u001b[0m \u001b[0;34m'__main__'\u001b[0m\u001b[0;34m:\u001b[0m\u001b[0;34m\u001b[0m\u001b[0;34m\u001b[0m\u001b[0m\n\u001b[0;32m---> 56\u001b[0;31m     \u001b[0mmain\u001b[0m\u001b[0;34m(\u001b[0m\u001b[0;34m)\u001b[0m\u001b[0;34m\u001b[0m\u001b[0;34m\u001b[0m\u001b[0m\n\u001b[0m\u001b[1;32m     57\u001b[0m \u001b[0;34m\u001b[0m\u001b[0m\n",
      "\u001b[0;32m<ipython-input-82-81bb841e7ccf>\u001b[0m in \u001b[0;36mmain\u001b[0;34m()\u001b[0m\n\u001b[1;32m     32\u001b[0m             \u001b[0mtime\u001b[0m\u001b[0;34m.\u001b[0m\u001b[0msleep\u001b[0m\u001b[0;34m(\u001b[0m\u001b[0;36m1\u001b[0m\u001b[0;34m)\u001b[0m\u001b[0;34m\u001b[0m\u001b[0;34m\u001b[0m\u001b[0m\n\u001b[1;32m     33\u001b[0m             \u001b[0;31m#listens for the user's input\u001b[0m\u001b[0;34m\u001b[0m\u001b[0;34m\u001b[0m\u001b[0;34m\u001b[0m\u001b[0m\n\u001b[0;32m---> 34\u001b[0;31m             \u001b[0maudio\u001b[0m \u001b[0;34m=\u001b[0m \u001b[0mr\u001b[0m\u001b[0;34m.\u001b[0m\u001b[0mlisten\u001b[0m\u001b[0;34m(\u001b[0m\u001b[0msource\u001b[0m\u001b[0;34m)\u001b[0m\u001b[0;34m\u001b[0m\u001b[0;34m\u001b[0m\u001b[0m\n\u001b[0m\u001b[1;32m     35\u001b[0m             \u001b[0;32mtry\u001b[0m\u001b[0;34m:\u001b[0m\u001b[0;34m\u001b[0m\u001b[0;34m\u001b[0m\u001b[0m\n\u001b[1;32m     36\u001b[0m \u001b[0;31m#                 text = r.recognize_google_cloud(audio)\u001b[0m\u001b[0;34m\u001b[0m\u001b[0;34m\u001b[0m\u001b[0;34m\u001b[0m\u001b[0m\n",
      "\u001b[0;32m~/anaconda3/lib/python3.7/site-packages/speech_recognition/__init__.py\u001b[0m in \u001b[0;36mlisten\u001b[0;34m(self, source, timeout, phrase_time_limit, snowboy_configuration)\u001b[0m\n\u001b[1;32m    618\u001b[0m                         \u001b[0;32mraise\u001b[0m \u001b[0mWaitTimeoutError\u001b[0m\u001b[0;34m(\u001b[0m\u001b[0;34m\"listening timed out while waiting for phrase to start\"\u001b[0m\u001b[0;34m)\u001b[0m\u001b[0;34m\u001b[0m\u001b[0;34m\u001b[0m\u001b[0m\n\u001b[1;32m    619\u001b[0m \u001b[0;34m\u001b[0m\u001b[0m\n\u001b[0;32m--> 620\u001b[0;31m                     \u001b[0mbuffer\u001b[0m \u001b[0;34m=\u001b[0m \u001b[0msource\u001b[0m\u001b[0;34m.\u001b[0m\u001b[0mstream\u001b[0m\u001b[0;34m.\u001b[0m\u001b[0mread\u001b[0m\u001b[0;34m(\u001b[0m\u001b[0msource\u001b[0m\u001b[0;34m.\u001b[0m\u001b[0mCHUNK\u001b[0m\u001b[0;34m)\u001b[0m\u001b[0;34m\u001b[0m\u001b[0;34m\u001b[0m\u001b[0m\n\u001b[0m\u001b[1;32m    621\u001b[0m                     \u001b[0;32mif\u001b[0m \u001b[0mlen\u001b[0m\u001b[0;34m(\u001b[0m\u001b[0mbuffer\u001b[0m\u001b[0;34m)\u001b[0m \u001b[0;34m==\u001b[0m \u001b[0;36m0\u001b[0m\u001b[0;34m:\u001b[0m \u001b[0;32mbreak\u001b[0m  \u001b[0;31m# reached end of the stream\u001b[0m\u001b[0;34m\u001b[0m\u001b[0;34m\u001b[0m\u001b[0m\n\u001b[1;32m    622\u001b[0m                     \u001b[0mframes\u001b[0m\u001b[0;34m.\u001b[0m\u001b[0mappend\u001b[0m\u001b[0;34m(\u001b[0m\u001b[0mbuffer\u001b[0m\u001b[0;34m)\u001b[0m\u001b[0;34m\u001b[0m\u001b[0;34m\u001b[0m\u001b[0m\n",
      "\u001b[0;32m~/anaconda3/lib/python3.7/site-packages/speech_recognition/__init__.py\u001b[0m in \u001b[0;36mread\u001b[0;34m(self, size)\u001b[0m\n\u001b[1;32m    159\u001b[0m \u001b[0;34m\u001b[0m\u001b[0m\n\u001b[1;32m    160\u001b[0m         \u001b[0;32mdef\u001b[0m \u001b[0mread\u001b[0m\u001b[0;34m(\u001b[0m\u001b[0mself\u001b[0m\u001b[0;34m,\u001b[0m \u001b[0msize\u001b[0m\u001b[0;34m)\u001b[0m\u001b[0;34m:\u001b[0m\u001b[0;34m\u001b[0m\u001b[0;34m\u001b[0m\u001b[0m\n\u001b[0;32m--> 161\u001b[0;31m             \u001b[0;32mreturn\u001b[0m \u001b[0mself\u001b[0m\u001b[0;34m.\u001b[0m\u001b[0mpyaudio_stream\u001b[0m\u001b[0;34m.\u001b[0m\u001b[0mread\u001b[0m\u001b[0;34m(\u001b[0m\u001b[0msize\u001b[0m\u001b[0;34m,\u001b[0m \u001b[0mexception_on_overflow\u001b[0m\u001b[0;34m=\u001b[0m\u001b[0;32mFalse\u001b[0m\u001b[0;34m)\u001b[0m\u001b[0;34m\u001b[0m\u001b[0;34m\u001b[0m\u001b[0m\n\u001b[0m\u001b[1;32m    162\u001b[0m \u001b[0;34m\u001b[0m\u001b[0m\n\u001b[1;32m    163\u001b[0m         \u001b[0;32mdef\u001b[0m \u001b[0mclose\u001b[0m\u001b[0;34m(\u001b[0m\u001b[0mself\u001b[0m\u001b[0;34m)\u001b[0m\u001b[0;34m:\u001b[0m\u001b[0;34m\u001b[0m\u001b[0;34m\u001b[0m\u001b[0m\n",
      "\u001b[0;32m~/anaconda3/lib/python3.7/site-packages/pyaudio.py\u001b[0m in \u001b[0;36mread\u001b[0;34m(self, num_frames, exception_on_overflow)\u001b[0m\n\u001b[1;32m    606\u001b[0m                           paCanNotReadFromAnOutputOnlyStream)\n\u001b[1;32m    607\u001b[0m \u001b[0;34m\u001b[0m\u001b[0m\n\u001b[0;32m--> 608\u001b[0;31m         \u001b[0;32mreturn\u001b[0m \u001b[0mpa\u001b[0m\u001b[0;34m.\u001b[0m\u001b[0mread_stream\u001b[0m\u001b[0;34m(\u001b[0m\u001b[0mself\u001b[0m\u001b[0;34m.\u001b[0m\u001b[0m_stream\u001b[0m\u001b[0;34m,\u001b[0m \u001b[0mnum_frames\u001b[0m\u001b[0;34m,\u001b[0m \u001b[0mexception_on_overflow\u001b[0m\u001b[0;34m)\u001b[0m\u001b[0;34m\u001b[0m\u001b[0;34m\u001b[0m\u001b[0m\n\u001b[0m\u001b[1;32m    609\u001b[0m \u001b[0;34m\u001b[0m\u001b[0m\n\u001b[1;32m    610\u001b[0m     \u001b[0;32mdef\u001b[0m \u001b[0mget_read_available\u001b[0m\u001b[0;34m(\u001b[0m\u001b[0mself\u001b[0m\u001b[0;34m)\u001b[0m\u001b[0;34m:\u001b[0m\u001b[0;34m\u001b[0m\u001b[0;34m\u001b[0m\u001b[0m\n",
      "\u001b[0;31mKeyboardInterrupt\u001b[0m: "
     ]
    }
   ],
   "source": [
    "import speech_recognition as sr\n",
    "import time\n",
    "import pyttsx3 \n",
    "def SpeakText(command):\n",
    "    \"\"\"This is a function that convert the text to speech .\n",
    "\n",
    "    Parameters\n",
    "    ----------\n",
    "    command : str\n",
    "        This is the response text that we want to convert text to speech.\n",
    "\n",
    "    Returns\n",
    "    -------\n",
    "    type\n",
    "        Description of returned object.\n",
    "\n",
    "    \"\"\"\n",
    "    # Initialize the engine \n",
    "    engine = pyttsx3.init() \n",
    "    engine.say(command)  \n",
    "    engine.runAndWait()\n",
    "\n",
    "def main():\n",
    "    r = sr.Recognizer()\n",
    "    while True:      \n",
    "        with sr.Microphone() as source: \n",
    "            #wait for a second to let the recognizer adjust the  \n",
    "            #energy threshold based on the surrounding noise level \n",
    "            r.adjust_for_ambient_noise(source) \n",
    "            print(\"Say Something\")\n",
    "            SpeakText(\"Say Something\")\n",
    "            time.sleep(1)\n",
    "            #listens for the user's input \n",
    "            audio = r.listen(source) \n",
    "            try:\n",
    "#                 text = r.recognize_google_cloud(audio)\n",
    "                text = r.recognize_google(audio) \n",
    "                print(text)\n",
    "                if text in ['play the Music','play music']:\n",
    "                    song_name =  \"Aaj-Phir-Arijit-Singh,Samira-Koppikar.mp3\"\n",
    "                    player = play_music(song_name)\n",
    "                elif text in ['pause','pause the music','pause music']:\n",
    "                    pause_music(player)\n",
    "                elif text in ['resume','resume the music','resume music']:\n",
    "                    resume_music(player)\n",
    "                elif text in ['stop','stop the music','stop music']:\n",
    "                    stop_music(player)\n",
    "                    \n",
    "            #error occurs when google could not understand what was said \n",
    "\n",
    "            except sr.UnknownValueError: \n",
    "                print(\"Google Speech Recognition could not understand audio\") \n",
    "\n",
    "\n",
    "if __name__ == '__main__':\n",
    "    main()\n",
    "\n"
   ]
  },
  {
   "cell_type": "code",
   "execution_count": 151,
   "metadata": {},
   "outputs": [
    {
     "name": "stdout",
     "output_type": "stream",
     "text": [
      "database create\n",
      "data base is already exist\n",
      "response is already exist\n",
      "response is already exist\n",
      "response is already exist\n",
      "response is already exist\n",
      "response is already exist\n",
      "Say Something\n",
      "Google Speech Recognition could not understand audio, say again\n",
      "Say Something\n",
      "you said: how was your day\n",
      "it is good\n"
     ]
    }
   ],
   "source": [
    "import speech_recognition as sr\n",
    "import sqlite3\n",
    "import os\n",
    "import pandas as pd\n",
    "from sqlalchemy import create_engine\n",
    "import os\n",
    "\n",
    "# os.chdir('')\n",
    "def create_db(db_name):\n",
    "    \"\"\"This function create a database and table that store all the input and response text from excel sheet.we are creating a engine.\n",
    "\n",
    "    Parameters\n",
    "    ----------\n",
    "    db_name : str\n",
    "        Name of database.\n",
    "\n",
    "    Returns\n",
    "    -------\n",
    "    boolean value: Boolean\n",
    "        It's True if we get the data from database otherwise False.\n",
    "    engine: str\n",
    "        It is a sql engine.\n",
    "\n",
    "    \"\"\"\n",
    "    db = sqlite3.connect(db_name,timeout=100)\n",
    "    c= db.cursor()\n",
    "    try:\n",
    "        data = pd.read_excel('database_excel.xlsx')\n",
    "        try:\n",
    "            c.execute('''CREATE TABLE response_table({} text primary key asc,{} text)'''.format(data.columns[0],data.columns[1]))\n",
    "        except:\n",
    "            print('data base is already exist')\n",
    "        data_list = [tuple(data.iloc[x,:]) for x in range(len(data))]\n",
    "        for i in data_list:\n",
    "            try:\n",
    "                c.execute(\"insert into response_table values (?,?)\",i)\n",
    "            except:\n",
    "                print('response is already exist')\n",
    "        db.commit()\n",
    "        c.close()\n",
    "        engine = create_engine('sqlite:///database.db')\n",
    "        return True,engine\n",
    "    except  Exception  as ex:\n",
    "        print(ex)\n",
    "        return False,' '\n",
    "\n",
    "\n",
    "\n",
    "def fetc_data(text,engine):\n",
    "    \"\"\"Thsi function fetch the response for the audio text .\n",
    "\n",
    "    Parameters\n",
    "    ----------\n",
    "    text : str\n",
    "        This is an audio text.\n",
    "    engine : str\n",
    "        This is a database engine.\n",
    "\n",
    "    Returns\n",
    "    -------\n",
    "    boolean value: Boolean\n",
    "        It's True if we get the data from database otherwise False.\n",
    "    Response value: str\n",
    "        It is response test for audio text.\n",
    "\n",
    "    \"\"\"\n",
    "    read_data = pd.read_sql('select Response from response_table where Input == \"{}\"'.format(text),engine)\n",
    "    if len(read_data == 1):\n",
    "        return True,read_data.Response.values[0]\n",
    "    else:\n",
    "        return False,0\n",
    "\n",
    "def SpeakText(command):\n",
    "    \"\"\"This is a function that convert the text to speech .\n",
    "\n",
    "    Parameters\n",
    "    ----------\n",
    "    command : str\n",
    "        This is the response text that we want to convert text to speech.\n",
    "\n",
    "    Returns\n",
    "    -------\n",
    "    type\n",
    "        Description of returned object.\n",
    "\n",
    "    \"\"\"\n",
    "    # Initialize the engine\n",
    "    engine = pyttsx3.init()\n",
    "    engine.say(command)\n",
    "    engine.runAndWait()\n",
    "\n",
    "def main():\n",
    "    db_name = 'database.db'\n",
    "    print('database create')\n",
    "    db_flag,engine = create_db(db_name)\n",
    "\n",
    "    while db_flag:\n",
    "\n",
    "        r = sr.Recognizer()\n",
    "        with sr.Microphone() as source:\n",
    "        #wait for a second to let the recognizer adjust the\n",
    "        #energy threshold based on the surrounding noise level\n",
    "            r.adjust_for_ambient_noise(source)\n",
    "            print(\"Say Something\")\n",
    "            #listens for the user's input\n",
    "            audio = r.listen(source)\n",
    "\n",
    "            try:\n",
    "                text = r.recognize_google(audio)\n",
    "                print (\"you said: \" + text )\n",
    "                find_flag,mytext = fetc_data(text,engine)\n",
    "                if find_flag:\n",
    "                    SpeakText(mytext)\n",
    "                    print(mytext)\n",
    "\n",
    "                else:\n",
    "                    print (\"There is no response for this in '{}' database : \".format(text))\n",
    "                break\n",
    "\n",
    "            #error occurs when google could not understand what was said\n",
    "\n",
    "            except sr.UnknownValueError:\n",
    "                print(\"Google Speech Recognition could not understand audio, say again\")\n",
    "\n",
    "\n",
    "    else:\n",
    "        print('error while creating databse')\n",
    "\n",
    "if __name__ == '__main__':\n",
    "    main()\n"
   ]
  },
  {
   "cell_type": "code",
   "execution_count": 128,
   "metadata": {},
   "outputs": [
    {
     "name": "stdout",
     "output_type": "stream",
     "text": [
      "Microphone with name \"HDA Intel PCH: ALC3227 Analog (hw:0,0)\" found for `Microphone(device_index=0)`\n",
      "Microphone with name \"HDA Intel PCH: HDMI 0 (hw:0,3)\" found for `Microphone(device_index=1)`\n",
      "Microphone with name \"sysdefault\" found for `Microphone(device_index=2)`\n",
      "Microphone with name \"front\" found for `Microphone(device_index=3)`\n",
      "Microphone with name \"surround40\" found for `Microphone(device_index=4)`\n",
      "Microphone with name \"surround51\" found for `Microphone(device_index=5)`\n",
      "Microphone with name \"surround71\" found for `Microphone(device_index=6)`\n",
      "Microphone with name \"hdmi\" found for `Microphone(device_index=7)`\n",
      "Microphone with name \"pulse\" found for `Microphone(device_index=8)`\n",
      "Microphone with name \"dmix\" found for `Microphone(device_index=9)`\n",
      "Microphone with name \"default\" found for `Microphone(device_index=10)`\n",
      "Microphone with name \"/dev/dsp\" found for `Microphone(device_index=11)`\n"
     ]
    }
   ],
   "source": [
    "import speech_recognition as sr\n",
    "for index, name in enumerate(sr.Microphone.list_microphone_names()):\n",
    "    print(\"Microphone with name \\\"{1}\\\" found for `Microphone(device_index={0})`\".format(index, name))\n"
   ]
  },
  {
   "cell_type": "code",
   "execution_count": 16,
   "metadata": {},
   "outputs": [
    {
     "ename": "KeyboardInterrupt",
     "evalue": "",
     "output_type": "error",
     "traceback": [
      "\u001b[0;31m---------------------------------------------------------------------------\u001b[0m",
      "\u001b[0;31mKeyboardInterrupt\u001b[0m                         Traceback (most recent call last)",
      "\u001b[0;32m<ipython-input-16-e7e16270bd86>\u001b[0m in \u001b[0;36m<module>\u001b[0;34m\u001b[0m\n\u001b[1;32m     37\u001b[0m \u001b[0;34m\u001b[0m\u001b[0m\n\u001b[1;32m     38\u001b[0m             \u001b[0;31m#listens for the user's input\u001b[0m\u001b[0;34m\u001b[0m\u001b[0;34m\u001b[0m\u001b[0;34m\u001b[0m\u001b[0m\n\u001b[0;32m---> 39\u001b[0;31m             \u001b[0maudio2\u001b[0m \u001b[0;34m=\u001b[0m \u001b[0mr\u001b[0m\u001b[0;34m.\u001b[0m\u001b[0mlisten\u001b[0m\u001b[0;34m(\u001b[0m\u001b[0msource2\u001b[0m\u001b[0;34m)\u001b[0m\u001b[0;34m\u001b[0m\u001b[0;34m\u001b[0m\u001b[0m\n\u001b[0m\u001b[1;32m     40\u001b[0m \u001b[0;34m\u001b[0m\u001b[0m\n\u001b[1;32m     41\u001b[0m             \u001b[0;31m# Using ggogle to recognize audio\u001b[0m\u001b[0;34m\u001b[0m\u001b[0;34m\u001b[0m\u001b[0;34m\u001b[0m\u001b[0m\n",
      "\u001b[0;32m~/anaconda3/lib/python3.7/site-packages/speech_recognition/__init__.py\u001b[0m in \u001b[0;36mlisten\u001b[0;34m(self, source, timeout, phrase_time_limit, snowboy_configuration)\u001b[0m\n\u001b[1;32m    650\u001b[0m                     \u001b[0;32mbreak\u001b[0m\u001b[0;34m\u001b[0m\u001b[0;34m\u001b[0m\u001b[0m\n\u001b[1;32m    651\u001b[0m \u001b[0;34m\u001b[0m\u001b[0m\n\u001b[0;32m--> 652\u001b[0;31m                 \u001b[0mbuffer\u001b[0m \u001b[0;34m=\u001b[0m \u001b[0msource\u001b[0m\u001b[0;34m.\u001b[0m\u001b[0mstream\u001b[0m\u001b[0;34m.\u001b[0m\u001b[0mread\u001b[0m\u001b[0;34m(\u001b[0m\u001b[0msource\u001b[0m\u001b[0;34m.\u001b[0m\u001b[0mCHUNK\u001b[0m\u001b[0;34m)\u001b[0m\u001b[0;34m\u001b[0m\u001b[0;34m\u001b[0m\u001b[0m\n\u001b[0m\u001b[1;32m    653\u001b[0m                 \u001b[0;32mif\u001b[0m \u001b[0mlen\u001b[0m\u001b[0;34m(\u001b[0m\u001b[0mbuffer\u001b[0m\u001b[0;34m)\u001b[0m \u001b[0;34m==\u001b[0m \u001b[0;36m0\u001b[0m\u001b[0;34m:\u001b[0m \u001b[0;32mbreak\u001b[0m  \u001b[0;31m# reached end of the stream\u001b[0m\u001b[0;34m\u001b[0m\u001b[0;34m\u001b[0m\u001b[0m\n\u001b[1;32m    654\u001b[0m                 \u001b[0mframes\u001b[0m\u001b[0;34m.\u001b[0m\u001b[0mappend\u001b[0m\u001b[0;34m(\u001b[0m\u001b[0mbuffer\u001b[0m\u001b[0;34m)\u001b[0m\u001b[0;34m\u001b[0m\u001b[0;34m\u001b[0m\u001b[0m\n",
      "\u001b[0;32m~/anaconda3/lib/python3.7/site-packages/speech_recognition/__init__.py\u001b[0m in \u001b[0;36mread\u001b[0;34m(self, size)\u001b[0m\n\u001b[1;32m    159\u001b[0m \u001b[0;34m\u001b[0m\u001b[0m\n\u001b[1;32m    160\u001b[0m         \u001b[0;32mdef\u001b[0m \u001b[0mread\u001b[0m\u001b[0;34m(\u001b[0m\u001b[0mself\u001b[0m\u001b[0;34m,\u001b[0m \u001b[0msize\u001b[0m\u001b[0;34m)\u001b[0m\u001b[0;34m:\u001b[0m\u001b[0;34m\u001b[0m\u001b[0;34m\u001b[0m\u001b[0m\n\u001b[0;32m--> 161\u001b[0;31m             \u001b[0;32mreturn\u001b[0m \u001b[0mself\u001b[0m\u001b[0;34m.\u001b[0m\u001b[0mpyaudio_stream\u001b[0m\u001b[0;34m.\u001b[0m\u001b[0mread\u001b[0m\u001b[0;34m(\u001b[0m\u001b[0msize\u001b[0m\u001b[0;34m,\u001b[0m \u001b[0mexception_on_overflow\u001b[0m\u001b[0;34m=\u001b[0m\u001b[0;32mFalse\u001b[0m\u001b[0;34m)\u001b[0m\u001b[0;34m\u001b[0m\u001b[0;34m\u001b[0m\u001b[0m\n\u001b[0m\u001b[1;32m    162\u001b[0m \u001b[0;34m\u001b[0m\u001b[0m\n\u001b[1;32m    163\u001b[0m         \u001b[0;32mdef\u001b[0m \u001b[0mclose\u001b[0m\u001b[0;34m(\u001b[0m\u001b[0mself\u001b[0m\u001b[0;34m)\u001b[0m\u001b[0;34m:\u001b[0m\u001b[0;34m\u001b[0m\u001b[0;34m\u001b[0m\u001b[0m\n",
      "\u001b[0;32m~/anaconda3/lib/python3.7/site-packages/pyaudio.py\u001b[0m in \u001b[0;36mread\u001b[0;34m(self, num_frames, exception_on_overflow)\u001b[0m\n\u001b[1;32m    606\u001b[0m                           paCanNotReadFromAnOutputOnlyStream)\n\u001b[1;32m    607\u001b[0m \u001b[0;34m\u001b[0m\u001b[0m\n\u001b[0;32m--> 608\u001b[0;31m         \u001b[0;32mreturn\u001b[0m \u001b[0mpa\u001b[0m\u001b[0;34m.\u001b[0m\u001b[0mread_stream\u001b[0m\u001b[0;34m(\u001b[0m\u001b[0mself\u001b[0m\u001b[0;34m.\u001b[0m\u001b[0m_stream\u001b[0m\u001b[0;34m,\u001b[0m \u001b[0mnum_frames\u001b[0m\u001b[0;34m,\u001b[0m \u001b[0mexception_on_overflow\u001b[0m\u001b[0;34m)\u001b[0m\u001b[0;34m\u001b[0m\u001b[0;34m\u001b[0m\u001b[0m\n\u001b[0m\u001b[1;32m    609\u001b[0m \u001b[0;34m\u001b[0m\u001b[0m\n\u001b[1;32m    610\u001b[0m     \u001b[0;32mdef\u001b[0m \u001b[0mget_read_available\u001b[0m\u001b[0;34m(\u001b[0m\u001b[0mself\u001b[0m\u001b[0;34m)\u001b[0m\u001b[0;34m:\u001b[0m\u001b[0;34m\u001b[0m\u001b[0;34m\u001b[0m\u001b[0m\n",
      "\u001b[0;31mKeyboardInterrupt\u001b[0m: "
     ]
    }
   ],
   "source": [
    "\n",
    "# Python program to translate \n",
    "# speech to text and text to speech \n",
    "  \n",
    "  \n",
    "import speech_recognition as sr \n",
    "import pyttsx3  \n",
    "  \n",
    "# Initialize the recognizer  \n",
    "r = sr.Recognizer()  \n",
    "  \n",
    "# Function to convert text to \n",
    "# speech \n",
    "def SpeakText(command): \n",
    "      \n",
    "    # Initialize the engine \n",
    "    engine = pyttsx3.init() \n",
    "    engine.say(command)  \n",
    "    engine.runAndWait() \n",
    "      \n",
    "      \n",
    "# Loop infinitely for user to \n",
    "# speak \n",
    "  \n",
    "while(1):     \n",
    "      \n",
    "    # Exception handling to handle \n",
    "    # exceptions at the runtime \n",
    "    try: \n",
    "          \n",
    "        # use the microphone as source for input. \n",
    "        with sr.Microphone() as source2: \n",
    "              \n",
    "            # wait for a second to let the recognizer \n",
    "            # adjust the energy threshold based on \n",
    "            # the surrounding noise level  \n",
    "            r.adjust_for_ambient_noise(source2, duration=0.2) \n",
    "              \n",
    "            #listens for the user's input  \n",
    "            audio2 = r.listen(source2) \n",
    "              \n",
    "            # Using ggogle to recognize audio \n",
    "            MyText = r.recognize_google(audio2) \n",
    "            MyText = MyText.lower() \n",
    "  \n",
    "            print(\"Did you say \"+MyText) \n",
    "            SpeakText(MyText) \n",
    "              \n",
    "    except sr.RequestError as e: \n",
    "        print(\"Could not request results; {0}\".format(e)) \n",
    "          \n",
    "    except sr.UnknownValueError: \n",
    "        print(\"unknown error occured\") \n"
   ]
  },
  {
   "cell_type": "code",
   "execution_count": 20,
   "metadata": {},
   "outputs": [],
   "source": [
    "import pyttsx3 "
   ]
  },
  {
   "cell_type": "code",
   "execution_count": 30,
   "metadata": {},
   "outputs": [],
   "source": [
    "engine = pyttsx3.init() "
   ]
  },
  {
   "cell_type": "code",
   "execution_count": 31,
   "metadata": {},
   "outputs": [],
   "source": [
    "# Import the required module for text \n",
    "# to speech conversion \n",
    "\n",
    "\n",
    "# init function to get an engine instance for the speech synthesis \n",
    "\n",
    "\n",
    "# say method on the engine that passing input text to be spoken \n",
    "engine.say('Hello sir, how may I help you, sir.') \n",
    "\n",
    "# run and wait method, it processes the voice commands. \n",
    "engine.runAndWait() \n"
   ]
  },
  {
   "cell_type": "code",
   "execution_count": 24,
   "metadata": {},
   "outputs": [
    {
     "ename": "ModuleNotFoundError",
     "evalue": "No module named 'espeak'",
     "output_type": "error",
     "traceback": [
      "\u001b[0;31m---------------------------------------------------------------------------\u001b[0m",
      "\u001b[0;31mModuleNotFoundError\u001b[0m                       Traceback (most recent call last)",
      "\u001b[0;32m<ipython-input-24-a96295cd2a3e>\u001b[0m in \u001b[0;36m<module>\u001b[0;34m\u001b[0m\n\u001b[0;32m----> 1\u001b[0;31m \u001b[0;32mfrom\u001b[0m \u001b[0mespeak\u001b[0m \u001b[0;32mimport\u001b[0m \u001b[0mespeak\u001b[0m\u001b[0;34m\u001b[0m\u001b[0;34m\u001b[0m\u001b[0m\n\u001b[0m\u001b[1;32m      2\u001b[0m \u001b[0;34m\u001b[0m\u001b[0m\n\u001b[1;32m      3\u001b[0m \u001b[0;32mdef\u001b[0m \u001b[0mhello_world\u001b[0m\u001b[0;34m(\u001b[0m\u001b[0;34m)\u001b[0m\u001b[0;34m:\u001b[0m\u001b[0;34m\u001b[0m\u001b[0;34m\u001b[0m\u001b[0m\n\u001b[1;32m      4\u001b[0m     \u001b[0mespeak\u001b[0m\u001b[0;34m.\u001b[0m\u001b[0msynth\u001b[0m\u001b[0;34m(\u001b[0m\u001b[0;34m\"Hello World\"\u001b[0m\u001b[0;34m)\u001b[0m\u001b[0;34m\u001b[0m\u001b[0;34m\u001b[0m\u001b[0m\n",
      "\u001b[0;31mModuleNotFoundError\u001b[0m: No module named 'espeak'"
     ]
    }
   ],
   "source": [
    "from espeak import espeak\n",
    "\n",
    "def hello_world():\n",
    "    espeak.synth(\"Hello World\")"
   ]
  },
  {
   "cell_type": "code",
   "execution_count": 43,
   "metadata": {},
   "outputs": [],
   "source": [
    "import pyttsx3\n",
    "engine = pyttsx3.init()\n",
    "engine.say('Sally sells seashells by the seashore.')\n",
    "engine.say('The quick brown fox jumped over the lazy dog.')\n",
    "engine.runAndWait()\n"
   ]
  },
  {
   "cell_type": "code",
   "execution_count": 44,
   "metadata": {},
   "outputs": [],
   "source": [
    "import pyttsx3\n",
    "engine = pyttsx3.init()\n",
    "engine.save_to_file('Hello World' , 'test.mp3')\n",
    "engine.runAndWait()"
   ]
  },
  {
   "cell_type": "code",
   "execution_count": 46,
   "metadata": {},
   "outputs": [
    {
     "name": "stdout",
     "output_type": "stream",
     "text": [
      "starting None\n",
      "word None 0 3\n",
      "word None 4 5\n",
      "word None 10 5\n",
      "word None 16 3\n",
      "word None 20 6\n",
      "word None 27 4\n",
      "word None 32 3\n",
      "word None 36 4\n",
      "word None 41 3\n",
      "finishing None True\n"
     ]
    }
   ],
   "source": [
    "import pyttsx3\n",
    "def onStart(name):\n",
    "   print('starting', name)\n",
    "def onWord(name, location, length):\n",
    "   print('word', name, location, length)\n",
    "def onEnd(name, completed):\n",
    "   print('finishing', name, completed)\n",
    "engine = pyttsx3.init()\n",
    "engine.connect('started-utterance', onStart)\n",
    "engine.connect('started-word', onWord)\n",
    "engine.connect('finished-utterance', onEnd)\n",
    "engine.say('The quick brown fox jumped over the lazy dog.')\n",
    "engine.runAndWait()"
   ]
  },
  {
   "cell_type": "code",
   "execution_count": 48,
   "metadata": {},
   "outputs": [
    {
     "name": "stdout",
     "output_type": "stream",
     "text": [
      "starting None\n",
      "word None 0 3\n",
      "word None 0 3\n",
      "word None 4 5\n",
      "word None 4 5\n",
      "word None 10 5\n",
      "word None 10 5\n",
      "word None 16 3\n",
      "word None 16 3\n",
      "word None 20 6\n",
      "word None 20 6\n",
      "word None 27 4\n",
      "word None 27 4\n",
      "word None 32 3\n",
      "word None 32 3\n",
      "word None 36 4\n",
      "word None 36 4\n",
      "word None 41 3\n",
      "word None 41 3\n",
      "finishing None True\n"
     ]
    }
   ],
   "source": [
    "import pyttsx3\n",
    "def onWord(name, location, length):\n",
    "   print('word', name, location, length)\n",
    "   if location > 10:\n",
    "      engine.stop()\n",
    "engine = pyttsx3.init()\n",
    "engine.connect('started-word', onWord)\n",
    "engine.say('The quick brown fox jumped over the lazy dog.')\n",
    "engine.runAndWait()"
   ]
  },
  {
   "cell_type": "code",
   "execution_count": 49,
   "metadata": {},
   "outputs": [
    {
     "name": "stdout",
     "output_type": "stream",
     "text": [
      "starting None\n",
      "word None 0 3\n",
      "word None 0 3\n",
      "word None 4 5\n",
      "word None 4 5\n",
      "word None 10 5\n",
      "word None 10 5\n",
      "word None 16 3\n",
      "word None 16 3\n",
      "word None 20 6\n",
      "word None 20 6\n",
      "word None 27 4\n",
      "word None 27 4\n",
      "word None 32 3\n",
      "word None 32 3\n",
      "word None 36 4\n",
      "word None 36 4\n",
      "word None 41 3\n",
      "word None 41 3\n",
      "starting None\n",
      "finishing None True\n",
      "starting None\n",
      "word None 0 3\n",
      "word None 0 3\n",
      "word None 4 5\n",
      "word None 4 5\n",
      "word None 10 5\n",
      "word None 10 5\n",
      "word None 16 3\n",
      "word None 16 3\n",
      "word None 20 6\n",
      "word None 20 6\n",
      "word None 27 4\n",
      "word None 27 4\n",
      "word None 32 3\n",
      "word None 32 3\n",
      "word None 36 4\n",
      "word None 36 4\n",
      "word None 41 3\n",
      "word None 41 3\n",
      "finishing None True\n",
      "finishing None True\n",
      "finishing None False\n"
     ]
    }
   ],
   "source": [
    "engine = pyttsx3.init()\n",
    "voices = engine.getProperty('voices')\n",
    "for voice in voices:\n",
    "   engine.setProperty('voice', voice.id)\n",
    "   engine.say('The quick brown fox jumped over the lazy dog.')\n",
    "engine.runAndWait()"
   ]
  },
  {
   "cell_type": "code",
   "execution_count": 58,
   "metadata": {},
   "outputs": [
    {
     "name": "stdout",
     "output_type": "stream",
     "text": [
      "starting None\n",
      "word None 0 3\n",
      "word None 0 3\n",
      "word None 4 5\n",
      "word None 4 5\n",
      "word None 10 5\n",
      "word None 10 5\n",
      "word None 16 3\n",
      "word None 16 3\n",
      "word None 20 6\n",
      "word None 20 6\n",
      "word None 27 4\n",
      "word None 27 4\n",
      "word None 32 3\n",
      "word None 32 3\n",
      "word None 36 4\n",
      "word None 36 4\n",
      "word None 41 3\n",
      "word None 41 3\n",
      "finishing None True\n"
     ]
    }
   ],
   "source": [
    "engine = pyttsx3.init()\n",
    "rate = engine.getProperty('rate')\n",
    "engine.setProperty('rate', rate+50)\n",
    "engine.say('The quick brown fox jumped over the lazy dog.')\n",
    "engine.runAndWait()"
   ]
  },
  {
   "cell_type": "code",
   "execution_count": 62,
   "metadata": {},
   "outputs": [
    {
     "name": "stdout",
     "output_type": "stream",
     "text": [
      "starting None\n",
      "word None 0 3\n",
      "word None 0 3\n",
      "word None 4 5\n",
      "word None 4 5\n",
      "word None 10 5\n",
      "word None 10 5\n",
      "word None 16 3\n",
      "word None 16 3\n",
      "word None 20 6\n",
      "word None 20 6\n",
      "word None 27 4\n",
      "word None 27 4\n",
      "word None 32 3\n",
      "word None 32 3\n",
      "word None 36 4\n",
      "word None 36 4\n",
      "word None 41 3\n",
      "word None 41 3\n",
      "finishing None True\n"
     ]
    }
   ],
   "source": [
    "engine = pyttsx3.init()\n",
    "volume = engine.getProperty('volume')\n",
    "engine.setProperty('volume', volume+1)\n",
    "engine.say('The quick brown fox jumped over the lazy dog.')\n",
    "engine.runAndWait()"
   ]
  },
  {
   "cell_type": "code",
   "execution_count": 66,
   "metadata": {},
   "outputs": [
    {
     "name": "stdout",
     "output_type": "stream",
     "text": [
      "50\n",
      "1.0\n",
      "starting None\n",
      "word None 0 5\n",
      "word None 0 5\n",
      "word None 6 5\n",
      "word None 6 5\n",
      "starting None\n",
      "finishing None True\n",
      "word None 0 2\n",
      "word None 0 2\n",
      "word None 3 7\n",
      "word None 3 7\n",
      "word None 11 8\n",
      "word None 11 8\n",
      "word None 20 4\n",
      "word None 20 4\n",
      "word None 25 2\n",
      "word None 25 2\n",
      "word None 28 2\n",
      "word None 28 2\n",
      "word None -1 0\n",
      "word None -1 0\n",
      "finishing None True\n"
     ]
    }
   ],
   "source": [
    "import pyttsx3\n",
    "engine = pyttsx3.init() # object creation\n",
    "\n",
    "\"\"\" RATE\"\"\"\n",
    "rate = engine.getProperty('rate')   # getting details of current speaking rate\n",
    "print (rate)                        #printing current voice rate\n",
    "engine.setProperty('rate', 50)     # setting up new voice rate\n",
    "\n",
    "\n",
    "\"\"\"VOLUME\"\"\"\n",
    "volume = engine.getProperty('volume')   #getting to know current volume level (min=0 and max=1)\n",
    "print (volume)                          #printing current volume level\n",
    "engine.setProperty('volume',0.5)    # setting up volume level  between 0 and 1\n",
    "\n",
    "\"\"\"VOICE\"\"\"\n",
    "voices = engine.getProperty('voices')       #getting details of current voice\n",
    "engine.setProperty('voice', voices[0].id)  #changing index, changes voices. o for male\n",
    "# engine.setProperty('voice', voices[1].id)   #changing index, changes voices. 1 for female\n",
    "\n",
    "engine.say(\"Hello World!\")\n",
    "engine.say('My current speaking rate is ' + str(rate))\n",
    "engine.runAndWait()\n",
    "engine.stop()"
   ]
  },
  {
   "cell_type": "code",
   "execution_count": 6,
   "metadata": {},
   "outputs": [
    {
     "name": "stdout",
     "output_type": "stream",
     "text": [
      "<Voice id=afrikaans\n",
      "          name=afrikaans\n",
      "          languages=[b'\\x05af']\n",
      "          gender=male\n",
      "          age=None>\n",
      "<Voice id=aragonese\n",
      "          name=aragonese\n",
      "          languages=[b'\\x05an']\n",
      "          gender=male\n",
      "          age=None>\n",
      "<Voice id=bulgarian\n",
      "          name=bulgarian\n",
      "          languages=[b'\\x05bg']\n",
      "          gender=None\n",
      "          age=None>\n",
      "<Voice id=bosnian\n",
      "          name=bosnian\n",
      "          languages=[b'\\x05bs']\n",
      "          gender=male\n",
      "          age=None>\n",
      "<Voice id=catalan\n",
      "          name=catalan\n",
      "          languages=[b'\\x05ca']\n",
      "          gender=male\n",
      "          age=None>\n",
      "<Voice id=czech\n",
      "          name=czech\n",
      "          languages=[b'\\x05cs']\n",
      "          gender=male\n",
      "          age=None>\n",
      "<Voice id=welsh\n",
      "          name=welsh\n",
      "          languages=[b'\\x05cy']\n",
      "          gender=male\n",
      "          age=None>\n",
      "<Voice id=danish\n",
      "          name=danish\n",
      "          languages=[b'\\x05da']\n",
      "          gender=male\n",
      "          age=None>\n",
      "<Voice id=german\n",
      "          name=german\n",
      "          languages=[b'\\x05de']\n",
      "          gender=male\n",
      "          age=None>\n",
      "<Voice id=greek\n",
      "          name=greek\n",
      "          languages=[b'\\x05el']\n",
      "          gender=male\n",
      "          age=None>\n"
     ]
    }
   ],
   "source": [
    "import pyttsx3\n",
    "\n",
    "engine = pyttsx3.init()\n",
    "voices = engine.getProperty('voices')\n",
    "for voice in voices[:10]:\n",
    "    print(voice)\n",
    "    engine.setProperty('voice', voice.id)\n",
    "    engine.say('Hello World')\n",
    "    engine.runAndWait()"
   ]
  },
  {
   "cell_type": "code",
   "execution_count": 5,
   "metadata": {},
   "outputs": [],
   "source": [
    "engine.setProperty('voice', voice.id)\n",
    "engine.say('Hello World')\n",
    "engine.runAndWait()"
   ]
  },
  {
   "cell_type": "code",
   "execution_count": 13,
   "metadata": {},
   "outputs": [
    {
     "name": "stdout",
     "output_type": "stream",
     "text": [
      "[b'\\x05el']\n"
     ]
    }
   ],
   "source": [
    "import pyttsx3\n",
    "\n",
    "engine = pyttsx3.init()\n",
    "voices = engine.getProperty('voices')\n",
    "for voice in voices:\n",
    "    if voice.languages[0] == b'\\x05el':\n",
    "        print(voice.languages)\n",
    "        engine.setProperty('voice', voice.id)\n",
    "        break\n",
    "\n",
    "engine.say('Hello World')\n",
    "engine.runAndWait()"
   ]
  },
  {
   "cell_type": "code",
   "execution_count": 97,
   "metadata": {},
   "outputs": [],
   "source": [
    "import sqlite3\n",
    "import os\n",
    "import pandas as pd\n",
    "from sqlalchemy import create_engine\n",
    "import pandas as pd"
   ]
  },
  {
   "cell_type": "code",
   "execution_count": 98,
   "metadata": {},
   "outputs": [],
   "source": [
    "\n",
    "\n",
    "db = sqlite3.connect('database.db',timeout=100)\n",
    "c= db.cursor()"
   ]
  },
  {
   "cell_type": "code",
   "execution_count": 99,
   "metadata": {},
   "outputs": [],
   "source": [
    "data = pd.read_excel('database_excel.xlsx')"
   ]
  },
  {
   "cell_type": "code",
   "execution_count": 100,
   "metadata": {},
   "outputs": [
    {
     "data": {
      "text/html": [
       "<div>\n",
       "<style scoped>\n",
       "    .dataframe tbody tr th:only-of-type {\n",
       "        vertical-align: middle;\n",
       "    }\n",
       "\n",
       "    .dataframe tbody tr th {\n",
       "        vertical-align: top;\n",
       "    }\n",
       "\n",
       "    .dataframe thead th {\n",
       "        text-align: right;\n",
       "    }\n",
       "</style>\n",
       "<table border=\"1\" class=\"dataframe\">\n",
       "  <thead>\n",
       "    <tr style=\"text-align: right;\">\n",
       "      <th></th>\n",
       "      <th>Input</th>\n",
       "      <th>Response</th>\n",
       "    </tr>\n",
       "  </thead>\n",
       "  <tbody>\n",
       "    <tr>\n",
       "      <td>0</td>\n",
       "      <td>what is your name</td>\n",
       "      <td>my name is uday</td>\n",
       "    </tr>\n",
       "    <tr>\n",
       "      <td>1</td>\n",
       "      <td>where are you from</td>\n",
       "      <td>i am from mumbai</td>\n",
       "    </tr>\n",
       "  </tbody>\n",
       "</table>\n",
       "</div>"
      ],
      "text/plain": [
       "                 Input          Response\n",
       "0    what is your name   my name is uday\n",
       "1  where are you from   i am from mumbai"
      ]
     },
     "execution_count": 100,
     "metadata": {},
     "output_type": "execute_result"
    }
   ],
   "source": [
    "data"
   ]
  },
  {
   "cell_type": "code",
   "execution_count": 107,
   "metadata": {},
   "outputs": [
    {
     "name": "stdout",
     "output_type": "stream",
     "text": [
      "data base is already exist\n"
     ]
    }
   ],
   "source": [
    "try:\n",
    "    c.execute('''CREATE TABLE response_table({} text primary key asc,{} text)'''.format(data.columns[0],data.columns[1]))\n",
    "except:\n",
    "    print('data base is already exist')"
   ]
  },
  {
   "cell_type": "code",
   "execution_count": 108,
   "metadata": {},
   "outputs": [
    {
     "data": {
      "text/plain": [
       "[('what is your name', 'my name is uday'),\n",
       " ('where are you from ', 'i am from mumbai')]"
      ]
     },
     "execution_count": 108,
     "metadata": {},
     "output_type": "execute_result"
    }
   ],
   "source": [
    "data_list = [tuple(data.iloc[x,:]) for x in range(len(data))]\n",
    "\n",
    "data_list"
   ]
  },
  {
   "cell_type": "code",
   "execution_count": 110,
   "metadata": {},
   "outputs": [
    {
     "name": "stdout",
     "output_type": "stream",
     "text": [
      "response is already exist\n",
      "response is already exist\n"
     ]
    }
   ],
   "source": [
    "for i in data_list:\n",
    "    try:\n",
    "        c.execute(\"insert into response_table values (?,?)\",i)\n",
    "    except:\n",
    "        print('response is already exist')\n",
    "db.commit()\n"
   ]
  },
  {
   "cell_type": "code",
   "execution_count": 111,
   "metadata": {},
   "outputs": [],
   "source": [
    "\n",
    "v = c.execute('select Response from response_table where Input == \"what is your name\"').fetchall()\n"
   ]
  },
  {
   "cell_type": "code",
   "execution_count": 88,
   "metadata": {},
   "outputs": [
    {
     "data": {
      "text/plain": [
       "'my name is uday'"
      ]
     },
     "execution_count": 88,
     "metadata": {},
     "output_type": "execute_result"
    }
   ],
   "source": [
    "v[0][0]"
   ]
  },
  {
   "cell_type": "code",
   "execution_count": 102,
   "metadata": {},
   "outputs": [],
   "source": [
    "from sqlalchemy import create_engine, MetaData, Table, Column, Integer, String\n",
    "engine = create_engine('sqlite:///database.db', echo = True)"
   ]
  },
  {
   "cell_type": "code",
   "execution_count": 103,
   "metadata": {},
   "outputs": [
    {
     "name": "stdout",
     "output_type": "stream",
     "text": [
      "2020-07-13 01:57:45,721 INFO sqlalchemy.engine.base.Engine SELECT CAST('test plain returns' AS VARCHAR(60)) AS anon_1\n",
      "2020-07-13 01:57:45,724 INFO sqlalchemy.engine.base.Engine ()\n",
      "2020-07-13 01:57:45,727 INFO sqlalchemy.engine.base.Engine SELECT CAST('test unicode returns' AS VARCHAR(60)) AS anon_1\n",
      "2020-07-13 01:57:45,737 INFO sqlalchemy.engine.base.Engine ()\n",
      "2020-07-13 01:57:45,739 INFO sqlalchemy.engine.base.Engine PRAGMA main.table_info(\"response_table\")\n",
      "2020-07-13 01:57:45,741 INFO sqlalchemy.engine.base.Engine ()\n"
     ]
    },
    {
     "data": {
      "text/plain": [
       "True"
      ]
     },
     "execution_count": 103,
     "metadata": {},
     "output_type": "execute_result"
    }
   ],
   "source": [
    "engine.has_table('response_table')"
   ]
  },
  {
   "cell_type": "code",
   "execution_count": 117,
   "metadata": {},
   "outputs": [
    {
     "name": "stdout",
     "output_type": "stream",
     "text": [
      "2020-07-13 02:27:37,339 INFO sqlalchemy.engine.base.Engine PRAGMA main.table_info(\"select Response from response_table where Input == \"\"what is your nam\"\"\")\n",
      "2020-07-13 02:27:37,342 INFO sqlalchemy.engine.base.Engine ()\n",
      "2020-07-13 02:27:37,345 INFO sqlalchemy.engine.base.Engine PRAGMA temp.table_info(\"select Response from response_table where Input == \"\"what is your nam\"\"\")\n",
      "2020-07-13 02:27:37,346 INFO sqlalchemy.engine.base.Engine ()\n",
      "2020-07-13 02:27:37,350 INFO sqlalchemy.engine.base.Engine select Response from response_table where Input == \"what is your nam\"\n",
      "2020-07-13 02:27:37,352 INFO sqlalchemy.engine.base.Engine ()\n"
     ]
    }
   ],
   "source": [
    "input_text = 'what is your'\n",
    "read_data = pd.read_sql('select Response from response_table where Input == \"what is your nam\"',engine)"
   ]
  },
  {
   "cell_type": "code",
   "execution_count": 119,
   "metadata": {},
   "outputs": [
    {
     "data": {
      "text/plain": [
       "0"
      ]
     },
     "execution_count": 119,
     "metadata": {},
     "output_type": "execute_result"
    }
   ],
   "source": [
    "len(read_data)"
   ]
  },
  {
   "cell_type": "code",
   "execution_count": 115,
   "metadata": {
    "scrolled": true
   },
   "outputs": [
    {
     "data": {
      "text/plain": [
       "str"
      ]
     },
     "execution_count": 115,
     "metadata": {},
     "output_type": "execute_result"
    }
   ],
   "source": [
    "type(read_data.Response.values[0])"
   ]
  },
  {
   "cell_type": "code",
   "execution_count": null,
   "metadata": {},
   "outputs": [],
   "source": []
  }
 ],
 "metadata": {
  "kernelspec": {
   "display_name": "Python 3",
   "language": "python",
   "name": "python3"
  },
  "language_info": {
   "codemirror_mode": {
    "name": "ipython",
    "version": 3
   },
   "file_extension": ".py",
   "mimetype": "text/x-python",
   "name": "python",
   "nbconvert_exporter": "python",
   "pygments_lexer": "ipython3",
   "version": "3.7.4"
  }
 },
 "nbformat": 4,
 "nbformat_minor": 2
}
